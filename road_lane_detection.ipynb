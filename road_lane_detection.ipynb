{
  "nbformat": 4,
  "nbformat_minor": 0,
  "metadata": {
    "colab": {
      "name": "road_lane_detection.ipynb",
      "provenance": [],
      "collapsed_sections": [],
      "mount_file_id": "1aKoiKIXr7LJvwKurZZw5wL_V65p16i-l",
      "authorship_tag": "ABX9TyOPc563E3ObZQZ6q2vBZN6Y"
    },
    "kernelspec": {
      "name": "python3",
      "display_name": "Python 3"
    },
    "language_info": {
      "name": "python"
    }
  },
  "cells": [
    {
      "cell_type": "markdown",
      "metadata": {
        "id": "OpYHvJZpYYWh"
      },
      "source": [
        "# Road Lane Detection Algorithm"
      ]
    },
    {
      "cell_type": "code",
      "metadata": {
        "id": "qiKv8TzQX0EW"
      },
      "source": [
        "import numpy as np\n",
        "import cv2\n",
        "import matplotlib.pyplot as plt"
      ],
      "execution_count": 1,
      "outputs": []
    },
    {
      "cell_type": "code",
      "metadata": {
        "id": "OSY0nQN7Z_Yx"
      },
      "source": [
        "def canny(img, kernel, thresh):\n",
        "    img = cv2.cvtColor(img, cv2.COLOR_RGB2GRAY)\n",
        "    img = cv2.GaussianBlur(img, (kernel, kernel), 0)\n",
        "    img = cv2.Canny(img, thresh[0], thresh[1])\n",
        "    img = img / 255\n",
        "    return img\n",
        "\n",
        "def hls_select(img, thresh):\n",
        "    hls = cv2.cvtColor(img, cv2.COLOR_RGB2HLS)\n",
        "    s_channel = hls[:,:,2]\n",
        "    binary_output = np.zeros_like(s_channel)\n",
        "    binary_output[(s_channel > thresh[0]) & (s_channel <= thresh[1])] = 1\n",
        "    return binary_output\n",
        "\n",
        "def binary_image(img, kernel = 3, thresh_c = (0, 255), thresh_h = (0, 255)):\n",
        "    canny_binary = canny(img, kernel, thresh_c)\n",
        "    hls_binary = hls_select(img, thresh_h)\n",
        "    binary = np.zeros_like(canny_binary)\n",
        "    binary[(canny_binary == 1) | (hls_binary == 1)] = 1\n",
        "    return binary\n",
        "\n",
        "def perspective_transform(binary, src, dst):\n",
        "    M = cv2.getPerspectiveTransform(src, dst)\n",
        "    Minv = cv2.getPerspectiveTransform(dst, src)\n",
        "    warped = cv2.warpPerspective(binary, M, binary.shape[::-1], flags=cv2.INTER_LINEAR)\n",
        "    return warped\n",
        "\n",
        "def find_lane_pixels(binary_warped):\n",
        "    histogram = np.sum(binary_warped[binary_warped.shape[0]//2:,:], axis=0)\n",
        "    midpoint = np.int(histogram.shape[0]//2)\n",
        "    leftx_base = np.argmax(histogram[:midpoint])\n",
        "    rightx_base = np.argmax(histogram[midpoint:]) + midpoint\n",
        "\n",
        "    nwindows = 10\n",
        "    margin = 50\n",
        "    minpix = 25\n",
        "    window_height = np.int(binary_warped.shape[0]//nwindows)\n",
        "\n",
        "    nonzero = binary_warped.nonzero()\n",
        "    nonzeroy = np.array(nonzero[0])\n",
        "    nonzerox = np.array(nonzero[1])\n",
        "\n",
        "    leftx_current = leftx_base\n",
        "    rightx_current = rightx_base\n",
        "\n",
        "    left_lane_inds = []\n",
        "    right_lane_inds = []\n",
        "\n",
        "    for window in range(nwindows):\n",
        "        win_y_low = binary_warped.shape[0] - (window+1)*window_height\n",
        "        win_y_high = binary_warped.shape[0] - window*window_height\n",
        "        win_xleft_low = leftx_current - margin\n",
        "        win_xleft_high = leftx_current + margin\n",
        "        win_xright_low = rightx_current - margin\n",
        "        win_xright_high = rightx_current + margin\n",
        "        \n",
        "        good_left_inds = ((nonzeroy >= win_y_low) & (nonzeroy < win_y_high) & \n",
        "        (nonzerox >= win_xleft_low) &  (nonzerox < win_xleft_high)).nonzero()[0]\n",
        "        good_right_inds = ((nonzeroy >= win_y_low) & (nonzeroy < win_y_high) & \n",
        "        (nonzerox >= win_xright_low) &  (nonzerox < win_xright_high)).nonzero()[0]\n",
        "        \n",
        "        left_lane_inds.append(good_left_inds)\n",
        "        right_lane_inds.append(good_right_inds)\n",
        "        \n",
        "        if len(good_left_inds) > minpix:\n",
        "            leftx_current = np.int(np.mean(nonzerox[good_left_inds]))\n",
        "        if len(good_right_inds) > minpix:        \n",
        "            rightx_current = np.int(np.mean(nonzerox[good_right_inds]))\n",
        "\n",
        "    try:\n",
        "        left_lane_inds = np.concatenate(left_lane_inds)\n",
        "        right_lane_inds = np.concatenate(right_lane_inds)\n",
        "    except ValueError:\n",
        "        pass\n",
        "\n",
        "    leftx = nonzerox[left_lane_inds]\n",
        "    lefty = nonzeroy[left_lane_inds] \n",
        "    rightx = nonzerox[right_lane_inds]\n",
        "    righty = nonzeroy[right_lane_inds]\n",
        "\n",
        "    return leftx, lefty, rightx, righty\n",
        "\n",
        "def search_around_poly(binary_warped, left_fit, right_fit):\n",
        "    margin = 20\n",
        "\n",
        "    nonzero = binary_warped.nonzero()\n",
        "    nonzeroy = np.array(nonzero[0])\n",
        "    nonzerox = np.array(nonzero[1])\n",
        "    \n",
        "    left_lane_inds = ((nonzerox > (left_fit[0]*(nonzeroy**2) + left_fit[1]*nonzeroy + \n",
        "                    left_fit[2] - margin)) & (nonzerox < (left_fit[0]*(nonzeroy**2) + \n",
        "                    left_fit[1]*nonzeroy + left_fit[2] + margin)))\n",
        "    right_lane_inds = ((nonzerox > (right_fit[0]*(nonzeroy**2) + right_fit[1]*nonzeroy + \n",
        "                    right_fit[2] - margin)) & (nonzerox < (right_fit[0]*(nonzeroy**2) + \n",
        "                    right_fit[1]*nonzeroy + right_fit[2] + margin)))\n",
        "\n",
        "    leftx = nonzerox[left_lane_inds]\n",
        "    lefty = nonzeroy[left_lane_inds] \n",
        "    rightx = nonzerox[right_lane_inds]\n",
        "    righty = nonzeroy[right_lane_inds]\n",
        "\n",
        "    return leftx, lefty, rightx, righty\n",
        "\n",
        "def fit_poly(img_shape, leftx, lefty, rightx, righty):\n",
        "    left_fit = np.polyfit(lefty, leftx, 2)\n",
        "    right_fit = np.polyfit(righty, rightx, 2)\n",
        "\n",
        "    return left_fit, right_fit"
      ],
      "execution_count": 2,
      "outputs": []
    },
    {
      "cell_type": "code",
      "metadata": {
        "id": "MSRCQgr-lIa_"
      },
      "source": [
        "src = np.float32([[650, 600], [950, 945], [130, 945], [440, 600]])\n",
        "dst = np.float32([[950, 40], [950, 945], [10, 945], [10, 40]])\n",
        "\n",
        "image1 = cv2.imread('road1.jpg')\n",
        "\n",
        "binary1 = binary_image(image1, 3, (30, 150), (90, 255))\n",
        "\n",
        "warped1 = perspective_transform(binary1, src, dst)"
      ],
      "execution_count": 3,
      "outputs": []
    },
    {
      "cell_type": "markdown",
      "metadata": {
        "id": "2842jp6637j2"
      },
      "source": [
        "### Initial Frame\n",
        "\n",
        "Implementing Sliding Windows and Fit a Polynomial\n"
      ]
    },
    {
      "cell_type": "code",
      "metadata": {
        "id": "bxwcIi_pPb9D",
        "colab": {
          "base_uri": "https://localhost:8080/",
          "height": 285
        },
        "outputId": "749c7b65-f502-4672-f957-5808839f87e6"
      },
      "source": [
        "leftx, lefty, rightx, righty = find_lane_pixels(warped1)\n",
        "left_fit, right_fit = fit_poly(warped1.shape, leftx, lefty, rightx, righty)\n",
        "\n",
        "ploty = np.linspace(0, warped1.shape[0]-1, warped1.shape[0])\n",
        "left_fitx = left_fit[0]*ploty**2 + left_fit[1]*ploty + left_fit[2]\n",
        "right_fitx = right_fit[0]*ploty**2 + right_fit[1]*ploty + right_fit[2]\n",
        "\n",
        "plt.imshow(warped1, cmap='gray')\n",
        "plt.plot(left_fitx, ploty, color='yellow', linewidth=5)\n",
        "plt.plot(right_fitx, ploty, color='yellow', linewidth=5)"
      ],
      "execution_count": 4,
      "outputs": [
        {
          "output_type": "execute_result",
          "data": {
            "text/plain": [
              "[<matplotlib.lines.Line2D at 0x7f01b0892f90>]"
            ]
          },
          "metadata": {
            "tags": []
          },
          "execution_count": 4
        },
        {
          "output_type": "display_data",
          "data": {
            "image/png": "[encoded data removed]",
            "text/plain": [
              "<Figure size 432x288 with 1 Axes>"
            ]
          },
          "metadata": {
            "tags": [],
            "needs_background": "light"
          }
        }
      ]
    },
    {
      "cell_type": "markdown",
      "metadata": {
        "id": "4Z7ENUb-4FVz"
      },
      "source": [
        "### Later frames\n",
        "\n",
        "Skip the sliding windows step once you've found the lines"
      ]
    },
    {
      "cell_type": "code",
      "metadata": {
        "id": "YChe2wzY1sX3"
      },
      "source": [
        "image2 = cv2.imread('road2.jpg')\n",
        "\n",
        "binary2 = binary_image(image2, 3, (30, 150), (90, 255))\n",
        "\n",
        "warped2 = perspective_transform(binary2, src, dst)"
      ],
      "execution_count": 5,
      "outputs": []
    },
    {
      "cell_type": "code",
      "metadata": {
        "id": "ffPOmaXmkei_",
        "colab": {
          "base_uri": "https://localhost:8080/",
          "height": 285
        },
        "outputId": "6d647614-2583-4fb9-ee58-d4a55c879d28"
      },
      "source": [
        "leftx, lefty, rightx, righty = search_around_poly(warped2, left_fit, right_fit)\n",
        "left_fit, right_fit = fit_poly(warped2.shape, leftx, lefty, rightx, righty)\n",
        "\n",
        "ploty = np.linspace(0, warped2.shape[0]-1, warped2.shape[0])\n",
        "left_fitx = left_fit[0]*ploty**2 + left_fit[1]*ploty + left_fit[2]\n",
        "right_fitx = right_fit[0]*ploty**2 + right_fit[1]*ploty + right_fit[2]\n",
        "\n",
        "plt.imshow(warped2, cmap='gray')\n",
        "plt.plot(left_fitx, ploty, color='yellow', linewidth=5)\n",
        "plt.plot(right_fitx, ploty, color='yellow', linewidth=5)"
      ],
      "execution_count": 6,
      "outputs": [
        {
          "output_type": "execute_result",
          "data": {
            "text/plain": [
              "[<matplotlib.lines.Line2D at 0x7f01b0384390>]"
            ]
          },
          "metadata": {
            "tags": []
          },
          "execution_count": 6
        },
        {
          "output_type": "display_data",
          "data": {
            "image/png": "[encoded data removed]",
            "text/plain": [
              "<Figure size 432x288 with 1 Axes>"
            ]
          },
          "metadata": {
            "tags": [],
            "needs_background": "light"
          }
        }
      ]
    }
  ]
}